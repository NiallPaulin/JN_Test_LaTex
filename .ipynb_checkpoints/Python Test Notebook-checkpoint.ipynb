{
 "cells": [
  {
   "cell_type": "markdown",
   "id": "955b0e06",
   "metadata": {},
   "source": [
    "# Test Jupyter Notebook and LaTex"
   ]
  },
  {
   "cell_type": "markdown",
   "id": "aa5017f4",
   "metadata": {},
   "source": [
    "## Basic output"
   ]
  },
  {
   "cell_type": "code",
   "execution_count": 10,
   "id": "a77f707d",
   "metadata": {},
   "outputs": [
    {
     "name": "stdout",
     "output_type": "stream",
     "text": [
      "Hello World. We now test LaTex.\n"
     ]
    }
   ],
   "source": [
    "print(\"Hello World. We now test LaTex.\")"
   ]
  },
  {
   "cell_type": "markdown",
   "id": "ccae1382",
   "metadata": {},
   "source": [
    "#### $$\\int_\\Omega \\nabla u \\cdot \\nabla vdx = \\int_\\Omega fvdx$$"
   ]
  },
  {
   "cell_type": "markdown",
   "id": "b1a36015",
   "metadata": {},
   "source": [
    "\n",
    "$$\\displaystyle\\sum_{i=1}^{\\Omega} t_i$$"
   ]
  },
  {
   "cell_type": "markdown",
   "id": "aa4f0ebf",
   "metadata": {},
   "source": [
    "$$\\int_0^\\infty \\mathrm{e}^{-x}\\,\\mathrm{d}x$$"
   ]
  },
  {
   "cell_type": "markdown",
   "id": "ba251081",
   "metadata": {},
   "source": [
    "$$\\sum_{\\substack{\n",
    "   0<i<m \\\\\n",
    "   0<j<n\n",
    "  }} \n",
    " P(i,j)$$"
   ]
  },
  {
   "cell_type": "markdown",
   "id": "b9c6adf4",
   "metadata": {},
   "source": [
    "$$P\\left(A=2|\\frac{A^2}{B}>4\\right)$$\n"
   ]
  },
  {
   "cell_type": "markdown",
   "id": "79e6c390",
   "metadata": {},
   "source": [
    "$$\\frac{\\mathrm d}{\\mathrm d x} \\big( f g(x) \\big)$$"
   ]
  },
  {
   "cell_type": "markdown",
   "id": "becd7540",
   "metadata": {},
   "source": [
    "$$A_{m,n} = \n",
    " \\begin{pmatrix}\n",
    "  a_{1,1} & a_{1,2} & \\cdots & a_{1,n} \\\\\n",
    "  a_{2,1} & a_{2,2} & \\cdots & a_{2,n} \\\\\n",
    "  \\vdots  & \\vdots  & \\ddots & \\vdots  \\\\\n",
    "  a_{m,1} & a_{m,2} & \\cdots & a_{m,n} \n",
    " \\end{pmatrix}$$"
   ]
  },
  {
   "cell_type": "markdown",
   "id": "b165ed71",
   "metadata": {},
   "source": [
    "$$\\mathbb{P}\\quad\\mathbb{Q}$$"
   ]
  },
  {
   "cell_type": "markdown",
   "id": "60a59bb8",
   "metadata": {},
   "source": [
    "$$\\boldsymbol{\\beta} = (\\beta_1,\\beta_2,\\dotsc,\\beta_n)$$"
   ]
  },
  {
   "cell_type": "code",
   "execution_count": null,
   "id": "d35462d9",
   "metadata": {},
   "outputs": [],
   "source": []
  }
 ],
 "metadata": {
  "kernelspec": {
   "display_name": "Python 3",
   "language": "python",
   "name": "python3"
  },
  "language_info": {
   "codemirror_mode": {
    "name": "ipython",
    "version": 3
   },
   "file_extension": ".py",
   "mimetype": "text/x-python",
   "name": "python",
   "nbconvert_exporter": "python",
   "pygments_lexer": "ipython3",
   "version": "3.8.8"
  }
 },
 "nbformat": 4,
 "nbformat_minor": 5
}
